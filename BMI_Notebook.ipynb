{
 "cells": [
  {
   "cell_type": "markdown",
   "id": "armed-deficit",
   "metadata": {},
   "source": [
    "#$Imports$"
   ]
  },
  {
   "cell_type": "code",
   "execution_count": 21,
   "id": "imperial-strand",
   "metadata": {},
   "outputs": [],
   "source": [
    "import numpy as np\n",
    "import pandas as pd\n",
    "import matplotlib.pyplot as plt\n",
    "import seaborn as sns\n",
    "from sklearn.metrics import r2_score, mean_squared_error"
   ]
  },
  {
   "cell_type": "markdown",
   "id": "typical-respect",
   "metadata": {},
   "source": [
    "#$Data$"
   ]
  },
  {
   "cell_type": "code",
   "execution_count": 13,
   "id": "driven-madness",
   "metadata": {},
   "outputs": [],
   "source": [
    "data = pd.read_csv(\"bmi.csv\")"
   ]
  },
  {
   "cell_type": "code",
   "execution_count": 14,
   "id": "constitutional-booking",
   "metadata": {},
   "outputs": [
    {
     "data": {
      "text/html": [
       "<div>\n",
       "<style scoped>\n",
       "    .dataframe tbody tr th:only-of-type {\n",
       "        vertical-align: middle;\n",
       "    }\n",
       "\n",
       "    .dataframe tbody tr th {\n",
       "        vertical-align: top;\n",
       "    }\n",
       "\n",
       "    .dataframe thead th {\n",
       "        text-align: right;\n",
       "    }\n",
       "</style>\n",
       "<table border=\"1\" class=\"dataframe\">\n",
       "  <thead>\n",
       "    <tr style=\"text-align: right;\">\n",
       "      <th></th>\n",
       "      <th>Gender</th>\n",
       "      <th>Height</th>\n",
       "      <th>Weight</th>\n",
       "      <th>Index</th>\n",
       "    </tr>\n",
       "  </thead>\n",
       "  <tbody>\n",
       "    <tr>\n",
       "      <th>0</th>\n",
       "      <td>Male</td>\n",
       "      <td>174</td>\n",
       "      <td>96</td>\n",
       "      <td>4</td>\n",
       "    </tr>\n",
       "    <tr>\n",
       "      <th>1</th>\n",
       "      <td>Male</td>\n",
       "      <td>189</td>\n",
       "      <td>87</td>\n",
       "      <td>2</td>\n",
       "    </tr>\n",
       "    <tr>\n",
       "      <th>2</th>\n",
       "      <td>Female</td>\n",
       "      <td>185</td>\n",
       "      <td>110</td>\n",
       "      <td>4</td>\n",
       "    </tr>\n",
       "    <tr>\n",
       "      <th>3</th>\n",
       "      <td>Female</td>\n",
       "      <td>195</td>\n",
       "      <td>104</td>\n",
       "      <td>3</td>\n",
       "    </tr>\n",
       "    <tr>\n",
       "      <th>4</th>\n",
       "      <td>Male</td>\n",
       "      <td>149</td>\n",
       "      <td>61</td>\n",
       "      <td>3</td>\n",
       "    </tr>\n",
       "  </tbody>\n",
       "</table>\n",
       "</div>"
      ],
      "text/plain": [
       "   Gender  Height  Weight  Index\n",
       "0    Male     174      96      4\n",
       "1    Male     189      87      2\n",
       "2  Female     185     110      4\n",
       "3  Female     195     104      3\n",
       "4    Male     149      61      3"
      ]
     },
     "execution_count": 14,
     "metadata": {},
     "output_type": "execute_result"
    }
   ],
   "source": [
    "data.head()"
   ]
  },
  {
   "cell_type": "markdown",
   "id": "italic-imperial",
   "metadata": {},
   "source": [
    "##$Categorical$ $Data$"
   ]
  },
  {
   "cell_type": "code",
   "execution_count": 15,
   "id": "progressive-pizza",
   "metadata": {},
   "outputs": [
    {
     "data": {
      "text/html": [
       "<div>\n",
       "<style scoped>\n",
       "    .dataframe tbody tr th:only-of-type {\n",
       "        vertical-align: middle;\n",
       "    }\n",
       "\n",
       "    .dataframe tbody tr th {\n",
       "        vertical-align: top;\n",
       "    }\n",
       "\n",
       "    .dataframe thead th {\n",
       "        text-align: right;\n",
       "    }\n",
       "</style>\n",
       "<table border=\"1\" class=\"dataframe\">\n",
       "  <thead>\n",
       "    <tr style=\"text-align: right;\">\n",
       "      <th></th>\n",
       "      <th>Gender</th>\n",
       "      <th>Height</th>\n",
       "      <th>Weight</th>\n",
       "      <th>Index</th>\n",
       "    </tr>\n",
       "  </thead>\n",
       "  <tbody>\n",
       "    <tr>\n",
       "      <th>0</th>\n",
       "      <td>0</td>\n",
       "      <td>174</td>\n",
       "      <td>96</td>\n",
       "      <td>4</td>\n",
       "    </tr>\n",
       "    <tr>\n",
       "      <th>1</th>\n",
       "      <td>0</td>\n",
       "      <td>189</td>\n",
       "      <td>87</td>\n",
       "      <td>2</td>\n",
       "    </tr>\n",
       "    <tr>\n",
       "      <th>2</th>\n",
       "      <td>1</td>\n",
       "      <td>185</td>\n",
       "      <td>110</td>\n",
       "      <td>4</td>\n",
       "    </tr>\n",
       "    <tr>\n",
       "      <th>3</th>\n",
       "      <td>1</td>\n",
       "      <td>195</td>\n",
       "      <td>104</td>\n",
       "      <td>3</td>\n",
       "    </tr>\n",
       "    <tr>\n",
       "      <th>4</th>\n",
       "      <td>0</td>\n",
       "      <td>149</td>\n",
       "      <td>61</td>\n",
       "      <td>3</td>\n",
       "    </tr>\n",
       "  </tbody>\n",
       "</table>\n",
       "</div>"
      ],
      "text/plain": [
       "   Gender  Height  Weight  Index\n",
       "0       0     174      96      4\n",
       "1       0     189      87      2\n",
       "2       1     185     110      4\n",
       "3       1     195     104      3\n",
       "4       0     149      61      3"
      ]
     },
     "execution_count": 15,
     "metadata": {},
     "output_type": "execute_result"
    }
   ],
   "source": [
    "gender_labs = {\"Male\":0,\"Female\":1}\n",
    "data[\"Gender\"] = data[\"Gender\"].map(gender_labs)\n",
    "data.head()"
   ]
  },
  {
   "cell_type": "markdown",
   "id": "restricted-cover",
   "metadata": {},
   "source": [
    "##$Null$ $Values$"
   ]
  },
  {
   "cell_type": "code",
   "execution_count": 16,
   "id": "bibliographic-istanbul",
   "metadata": {},
   "outputs": [
    {
     "data": {
      "text/plain": [
       "Gender    0\n",
       "Height    0\n",
       "Weight    0\n",
       "Index     0\n",
       "dtype: int64"
      ]
     },
     "execution_count": 16,
     "metadata": {},
     "output_type": "execute_result"
    }
   ],
   "source": [
    "data.isnull().sum()"
   ]
  },
  {
   "cell_type": "markdown",
   "id": "impossible-sally",
   "metadata": {},
   "source": [
    "Greate!!, there is `no null value`."
   ]
  },
  {
   "cell_type": "markdown",
   "id": "documented-spider",
   "metadata": {},
   "source": [
    "#$Feature$ $Selection$"
   ]
  },
  {
   "cell_type": "code",
   "execution_count": 17,
   "id": "frozen-pregnancy",
   "metadata": {},
   "outputs": [
    {
     "data": {
      "image/png": "[encoded data removed]",
      "text/plain": [
       "<Figure size 576x360 with 2 Axes>"
      ]
     },
     "metadata": {
      "needs_background": "light"
     },
     "output_type": "display_data"
    }
   ],
   "source": [
    "data_corr = data.corr()\n",
    "plt.figure(figsize=(8,5))\n",
    "sns.heatmap(data_corr,annot=True)\n",
    "plt.show()"
   ]
  },
  {
   "cell_type": "markdown",
   "id": "about-cooking",
   "metadata": {},
   "source": [
    "#$Data$ $splitting$"
   ]
  },
  {
   "cell_type": "code",
   "execution_count": 18,
   "id": "sufficient-recruitment",
   "metadata": {},
   "outputs": [],
   "source": [
    "Y_data = data.pop(\"Index\")\n",
    "X_data = data\n",
    "from sklearn.model_selection import train_test_split\n",
    "X_train,X_test,Y_train,Y_test = train_test_split(X_data,Y_data,test_size=0.33)"
   ]
  },
  {
   "cell_type": "code",
   "execution_count": 19,
   "id": "million-newcastle",
   "metadata": {},
   "outputs": [
    {
     "name": "stdout",
     "output_type": "stream",
     "text": [
      "Train Shape : (335, 3), Test Shape : (165, 3)\n"
     ]
    }
   ],
   "source": [
    "print(f\"Train Shape : {X_train.shape}, Test Shape : {X_test.shape}\")"
   ]
  },
  {
   "cell_type": "markdown",
   "id": "neutral-garden",
   "metadata": {},
   "source": [
    "#$Models$"
   ]
  },
  {
   "cell_type": "code",
   "execution_count": 22,
   "id": "excessive-medicaid",
   "metadata": {},
   "outputs": [
    {
     "name": "stdout",
     "output_type": "stream",
     "text": [
      " R2 : 0.8270814906681658 RMSE : 0.5463337166395628\n"
     ]
    }
   ],
   "source": [
    "from sklearn.linear_model import LinearRegression # This generally work as a BaseLine\n",
    "LR = LinearRegression()\n",
    "LR.fit(X_train,Y_train)\n",
    "y_pred = LR.predict(X_test)\n",
    "r2_LR = r2_score(Y_test,y_pred)\n",
    "RMSE_LR = np.sqrt(mean_squared_error(Y_test,y_pred))\n",
    "print(f\" R2 : {r2_LR} RMSE : {RMSE_LR}\")"
   ]
  },
  {
   "cell_type": "code",
   "execution_count": 30,
   "id": "documentary-portal",
   "metadata": {},
   "outputs": [
    {
     "name": "stdout",
     "output_type": "stream",
     "text": [
      " R2 : 0.9451739993151501 RMSE : 0.307631317638001\n"
     ]
    }
   ],
   "source": [
    "from sklearn.preprocessing import PolynomialFeatures, StandardScaler\n",
    "from sklearn.pipeline import Pipeline\n",
    "PR = Pipeline([\n",
    "    (\"SC\",StandardScaler()), # This doesn't made much difference\n",
    "    (\"PF\",PolynomialFeatures(degree=3)), # I tweaked the Degree \n",
    "    (\"LR\",LinearRegression())\n",
    "])\n",
    "PR.fit(X_train,Y_train)\n",
    "y_pred = PR.predict(X_test)\n",
    "r2_PR = r2_score(Y_test,y_pred)\n",
    "RMSE_PR = np.sqrt(mean_squared_error(Y_test,y_pred))\n",
    "print(f\" R2 : {r2_PR} RMSE : {RMSE_PR}\")"
   ]
  },
  {
   "cell_type": "code",
   "execution_count": 37,
   "id": "residential-qualification",
   "metadata": {},
   "outputs": [
    {
     "name": "stdout",
     "output_type": "stream",
     "text": [
      " R2 : 0.8789983248693783 RMSE : 0.4570176295530147\n"
     ]
    }
   ],
   "source": [
    "from sklearn.tree import DecisionTreeRegressor\n",
    "DTR = DecisionTreeRegressor(max_depth=None,min_samples_leaf=5) # I tried many combinations but all of them just moved arounf the same scores\n",
    "DTR.fit(X_train,Y_train)\n",
    "y_pred = DTR.predict(X_test)\n",
    "r2_DTR = r2_score(Y_test,y_pred)\n",
    "RMSE_DTR = np.sqrt(mean_squared_error(Y_test,y_pred))\n",
    "print(f\" R2 : {r2_DTR} RMSE : {RMSE_DTR}\")"
   ]
  },
  {
   "cell_type": "code",
   "execution_count": 48,
   "id": "acceptable-services",
   "metadata": {},
   "outputs": [
    {
     "name": "stdout",
     "output_type": "stream",
     "text": [
      " R2 : 0.9407063676365223 RMSE : 0.31991992566146127\n"
     ]
    }
   ],
   "source": [
    "from sklearn.svm import SVR\n",
    "svr = SVR(kernel=\"rbf\",degree=3,C=7.0) # Increasing the C will make it more linear\n",
    "svr.fit(X_train,Y_train)\n",
    "y_pred = svr.predict(X_test)\n",
    "r2_svr = r2_score(Y_test,y_pred)\n",
    "RMSE_svr = np.sqrt(mean_squared_error(Y_test,y_pred))\n",
    "print(f\" R2 : {r2_svr} RMSE : {RMSE_svr}\")"
   ]
  },
  {
   "cell_type": "code",
   "execution_count": 49,
   "id": "level-leadership",
   "metadata": {},
   "outputs": [],
   "source": [
    "from sklearn.model_selection import GridSearchCV"
   ]
  },
  {
   "cell_type": "code",
   "execution_count": 51,
   "id": "governmental-earthquake",
   "metadata": {},
   "outputs": [
    {
     "data": {
      "text/plain": [
       "GridSearchCV(cv=5, estimator=SVR(),\n",
       "             param_grid={'C': [1, 3, 5, 7, 10], 'degree': [1, 2, 3],\n",
       "                         'kernel': ['rbf', 'linear']})"
      ]
     },
     "execution_count": 51,
     "metadata": {},
     "output_type": "execute_result"
    }
   ],
   "source": [
    "svr_gs = SVR()\n",
    "GSCV = GridSearchCV(estimator=svr_gs,param_grid={\"kernel\":[\"rbf\",\"linear\"],\"degree\":[1,2,3],\"C\":[1,3,5,7,10]},cv=5)\n",
    "GSCV.fit(X_train,Y_train)"
   ]
  },
  {
   "cell_type": "code",
   "execution_count": 52,
   "id": "lonely-champagne",
   "metadata": {},
   "outputs": [
    {
     "data": {
      "text/plain": [
       "{'C': 10, 'degree': 1, 'kernel': 'rbf'}"
      ]
     },
     "execution_count": 52,
     "metadata": {},
     "output_type": "execute_result"
    }
   ],
   "source": [
    "GSCV.best_params_"
   ]
  },
  {
   "cell_type": "code",
   "execution_count": 54,
   "id": "functioning-taiwan",
   "metadata": {},
   "outputs": [
    {
     "data": {
      "text/plain": [
       "0.9383882380598019"
      ]
     },
     "execution_count": 54,
     "metadata": {},
     "output_type": "execute_result"
    }
   ],
   "source": [
    "GSCV.best_score_"
   ]
  },
  {
   "cell_type": "code",
   "execution_count": 55,
   "id": "collect-humanity",
   "metadata": {},
   "outputs": [
    {
     "name": "stdout",
     "output_type": "stream",
     "text": [
      " R2 : 0.9418361252954244 RMSE : 0.31685745320518194\n"
     ]
    }
   ],
   "source": [
    "svr_gs = GSCV.best_estimator_\n",
    "svr_gs.fit(X_train,Y_train)\n",
    "y_pred = svr_gs.predict(X_test)\n",
    "r2_svr_gs = r2_score(Y_test,y_pred)\n",
    "RMSE_svr_gs = np.sqrt(mean_squared_error(Y_test,y_pred))\n",
    "print(f\" R2 : {r2_svr_gs} RMSE : {RMSE_svr_gs}\")"
   ]
  },
  {
   "cell_type": "markdown",
   "id": "stupid-height",
   "metadata": {},
   "source": [
    "I prefer the `normal` one as it didn't made much difference and this `high value` of $C$ doesn't makes me `feel comfortable`."
   ]
  },
  {
   "cell_type": "code",
   "execution_count": 68,
   "id": "democratic-remark",
   "metadata": {},
   "outputs": [
    {
     "name": "stdout",
     "output_type": "stream",
     "text": [
      " R2 : 0.9206721155896644 RMSE : 0.37004130015345355\n"
     ]
    }
   ],
   "source": [
    "from sklearn.ensemble import RandomForestRegressor\n",
    "RFR = RandomForestRegressor(min_samples_leaf=5,max_depth=6) # This was certainly the best parameter I founded\n",
    "RFR.fit(X_train,Y_train)\n",
    "y_pred = RFR.predict(X_test)\n",
    "r2_RFR = r2_score(Y_test,y_pred)\n",
    "RMSE_RFR = np.sqrt(mean_squared_error(Y_test,y_pred))\n",
    "print(f\" R2 : {r2_RFR} RMSE : {RMSE_RFR}\")"
   ]
  },
  {
   "cell_type": "markdown",
   "id": "rental-ensemble",
   "metadata": {},
   "source": [
    "#$Model$ $Comparison$"
   ]
  },
  {
   "cell_type": "code",
   "execution_count": 107,
   "id": "latest-plant",
   "metadata": {},
   "outputs": [],
   "source": [
    "models = [\"LR\",\"PR\",\"DTR\",\"SVR\",\"SVR_GS\",\"RFR\"]\n",
    "r2s = [r2_LR,r2_PR,r2_DTR,r2_svr,r2_svr_gs,r2_RFR]\n",
    "rmses = [RMSE_LR,RMSE_PR,RMSE_DTR,RMSE_svr,RMSE_svr_gs,RMSE_RFR]\n",
    "max_r2, min_r2 = np.max(r2s), np.min(r2s)\n",
    "max_rmse, min_rmse = np.max(rmses), np.min(rmses)"
   ]
  },
  {
   "cell_type": "code",
   "execution_count": 108,
   "id": "contemporary-complement",
   "metadata": {},
   "outputs": [
    {
     "data": {
      "image/png": "[encoded data removed]",
      "text/plain": [
       "<Figure size 576x360 with 1 Axes>"
      ]
     },
     "metadata": {
      "needs_background": "light"
     },
     "output_type": "display_data"
    }
   ],
   "source": [
    "plt.figure(figsize=(8,5))\n",
    "plt.bar(models,r2s)\n",
    "plt.bar(models[r2s.index(max_r2)],max_r2,label=\"Max R2\")\n",
    "plt.bar(models[r2s.index(min_r2)],min_r2,label=\"Min R2\")\n",
    "plt.title(\"R2\")\n",
    "plt.ylabel(\"Scores\")\n",
    "plt.legend()\n",
    "plt.show()"
   ]
  },
  {
   "cell_type": "code",
   "execution_count": 109,
   "id": "overall-lawsuit",
   "metadata": {},
   "outputs": [
    {
     "data": {
      "image/png": "[encoded data removed]",
      "text/plain": [
       "<Figure size 576x360 with 1 Axes>"
      ]
     },
     "metadata": {
      "needs_background": "light"
     },
     "output_type": "display_data"
    }
   ],
   "source": [
    "plt.figure(figsize=(8,5))\n",
    "plt.bar(models,rmses)\n",
    "plt.bar(models[rmses.index(max_rmse)],max_rmse,label=\"Max RMSE\")\n",
    "plt.bar(models[rmses.index(min_rmse)],min_rmse,label=\"Min RMSE\")\n",
    "plt.title(\"RMSE\")\n",
    "plt.ylabel(\"Scores\")\n",
    "plt.legend()\n",
    "plt.show()"
   ]
  },
  {
   "cell_type": "code",
   "execution_count": 111,
   "id": "nasty-foster",
   "metadata": {},
   "outputs": [
    {
     "data": {
      "image/png": "[encoded data removed]",
      "text/plain": [
       "<Figure size 720x360 with 2 Axes>"
      ]
     },
     "metadata": {
      "needs_background": "light"
     },
     "output_type": "display_data"
    }
   ],
   "source": [
    "f, (ax1,ax2) = plt.subplots(1,2)\n",
    "f.set_figheight(5)\n",
    "f.set_figwidth(10)\n",
    "\n",
    "ax1.bar(models,r2s)\n",
    "ax1.bar(models[r2s.index(max_r2)],max_r2,label=\"Max R2\")\n",
    "ax1.bar(models[r2s.index(min_r2)],min_r2,label=\"Min R2\")\n",
    "ax1.set_title(\"R2\")\n",
    "ax1.set_ylabel(\"Scores\")\n",
    "ax1.legend()\n",
    "\n",
    "ax2.bar(models,rmses)\n",
    "ax2.bar(models[rmses.index(max_rmse)],max_rmse,label=\"Max RMSE\")\n",
    "ax2.bar(models[rmses.index(min_rmse)],min_rmse,label=\"Min RMSE\")\n",
    "ax2.set_title(\"RMSE\")\n",
    "ax2.set_ylabel(\"Scores\")\n",
    "ax2.legend()\n",
    "plt.show()"
   ]
  },
  {
   "cell_type": "markdown",
   "id": "brown-bikini",
   "metadata": {},
   "source": [
    "Clearly, $Polynomial$ $Regression$ is the `best model`."
   ]
  }
 ],
 "metadata": {
  "kernelspec": {
   "display_name": "Python 3",
   "language": "python",
   "name": "python3"
  },
  "language_info": {
   "codemirror_mode": {
    "name": "ipython",
    "version": 3
   },
   "file_extension": ".py",
   "mimetype": "text/x-python",
   "name": "python",
   "nbconvert_exporter": "python",
   "pygments_lexer": "ipython3",
   "version": "3.9.2"
  }
 },
 "nbformat": 4,
 "nbformat_minor": 5
}
